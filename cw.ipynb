{
 "cells": [
  {
   "cell_type": "code",
   "execution_count": 12,
   "metadata": {},
   "outputs": [
    {
     "name": "stdout",
     "output_type": "stream",
     "text": [
      "     pcost       dcost       gap    pres   dres   k/t\n",
      " 0:  4.0780e+02  4.0780e+02  5e+04  2e+00  9e-01  1e+00\n",
      " 1:  6.8377e+03  7.2145e+03  7e+03  3e-01  2e-01  4e+02\n",
      " 2:  7.0354e+03  7.0784e+03  6e+02  3e-02  2e-02  4e+01\n",
      " 3:  7.0003e+03  7.0008e+03  6e+00  3e-04  2e-04  5e-01\n",
      " 4:  7.0000e+03  7.0000e+03  6e-02  3e-06  2e-06  5e-03\n",
      " 5:  7.0000e+03  7.0000e+03  6e-04  3e-08  2e-08  5e-05\n",
      "Optimal solution found.\n",
      "[ 1.00e+03]\n",
      "[ 9.63e-05]\n",
      "[ 4.40e-06]\n",
      "[-3.84e-07]\n",
      "[-1.59e-05]\n",
      "[ 7.48e-06]\n",
      "[ 2.00e+03]\n",
      "[ 2.80e-05]\n",
      "\n",
      "the value of the primal objective function is 7000.000032777803\n",
      "the value of the dual objective function is 7000.000078351883\n",
      "the value of the slackness condition is 0.0006024279860737412\n"
     ]
    }
   ],
   "source": [
    "from cvxopt import matrix, solvers\n",
    "\n",
    "# Objective function coefficients (we negate them because linprog does minimization by default)\n",
    "c = matrix([12.,8.,5.,3.,-9.5,-5.5,-2.5,-0.5])\n",
    "\n",
    "G = matrix([[-1.,-2.,-3.,4.,-4.,-1.,0.,0.,0.,0.,0.,0.,0.],\n",
    "            [0.,-1.,-2.,3.,-3.,0.,-1.,0.,0.,0.,0.,0.,0.],\n",
    "            [0.,0.,-1.,2.,-2.,0.,0.,-1.,0.,0.,0.,0.,0.],\n",
    "            [0.,0.,0.,1.,-1., 0.,0.,0.,-1.,0.,0.,0.,0.],\n",
    "            [1.,2.,3.,-4.,4.,0.,0.,0.,0.,-1.,0.,0.,0.],\n",
    "            [0.,1.,2.,-3.,3.,0.,0.,0.,0.,0.,-1.,0.,0.],\n",
    "            [0.,0.,1.,-2.,2.,0.,0.,0.,0.,0.,0.,-1.,0.],\n",
    "            [0.,0.,0.,-1.,1.,0.,0.,0.,0.,0.,0.,0.,-1.]])\n",
    "\n",
    "h = matrix([2000.,-2000.,0.,0.,0.,0.,0.,0.,0.,0.,0.,0.,0.])\n",
    "\n",
    "sol = solvers.lp(c,G,h)\n",
    "print(sol['x'])\n",
    "print('the value of the primal objective function is', sol['primal objective'])\n",
    "print('the value of the dual objective function is', sol['dual objective'])\n",
    "print('the value of the slackness condition is', sol['gap'])\n"
   ]
  },
  {
   "cell_type": "code",
   "execution_count": 13,
   "metadata": {},
   "outputs": [
    {
     "name": "stdout",
     "output_type": "stream",
     "text": [
      "[ 1.00e+03]\n",
      "[ 0.00e+00]\n",
      "[ 0.00e+00]\n",
      "[ 0.00e+00]\n",
      "[ 0.00e+00]\n",
      "[ 0.00e+00]\n",
      "[ 2.00e+03]\n",
      "[ 0.00e+00]\n",
      "\n",
      "GLPK Simplex Optimizer 5.0\n",
      "13 rows, 8 columns, 36 non-zeros\n",
      "      0: obj =   0.000000000e+00 inf =   2.000e+03 (1)\n",
      "      3: obj =   7.000000000e+03 inf =   0.000e+00 (0)\n",
      "*     9: obj =   7.000000000e+03 inf =   0.000e+00 (0)\n",
      "OPTIMAL LP SOLUTION FOUND\n"
     ]
    }
   ],
   "source": [
    "sol = solvers.lp( c, G, h, solver= 'glpk' )\n",
    "print(sol['x'])"
   ]
  },
  {
   "cell_type": "code",
   "execution_count": 2,
   "metadata": {},
   "outputs": [
    {
     "data": {
      "text/html": [
       "<div>\n",
       "<style scoped>\n",
       "    .dataframe tbody tr th:only-of-type {\n",
       "        vertical-align: middle;\n",
       "    }\n",
       "\n",
       "    .dataframe tbody tr th {\n",
       "        vertical-align: top;\n",
       "    }\n",
       "\n",
       "    .dataframe thead th {\n",
       "        text-align: right;\n",
       "    }\n",
       "</style>\n",
       "<table border=\"1\" class=\"dataframe\">\n",
       "  <thead>\n",
       "    <tr style=\"text-align: right;\">\n",
       "      <th></th>\n",
       "      <th>0</th>\n",
       "      <th>1</th>\n",
       "      <th>2</th>\n",
       "    </tr>\n",
       "  </thead>\n",
       "  <tbody>\n",
       "    <tr>\n",
       "      <th>0</th>\n",
       "      <td>1.262954</td>\n",
       "      <td>0.781859</td>\n",
       "      <td>-1</td>\n",
       "    </tr>\n",
       "    <tr>\n",
       "      <th>1</th>\n",
       "      <td>-0.326233</td>\n",
       "      <td>-0.776777</td>\n",
       "      <td>-1</td>\n",
       "    </tr>\n",
       "    <tr>\n",
       "      <th>2</th>\n",
       "      <td>1.329799</td>\n",
       "      <td>-0.615990</td>\n",
       "      <td>-1</td>\n",
       "    </tr>\n",
       "    <tr>\n",
       "      <th>3</th>\n",
       "      <td>1.272429</td>\n",
       "      <td>0.046580</td>\n",
       "      <td>-1</td>\n",
       "    </tr>\n",
       "    <tr>\n",
       "      <th>4</th>\n",
       "      <td>0.414641</td>\n",
       "      <td>-1.130386</td>\n",
       "      <td>-1</td>\n",
       "    </tr>\n",
       "  </tbody>\n",
       "</table>\n",
       "</div>"
      ],
      "text/plain": [
       "          0         1  2\n",
       "0  1.262954  0.781859 -1\n",
       "1 -0.326233 -0.776777 -1\n",
       "2  1.329799 -0.615990 -1\n",
       "3  1.272429  0.046580 -1\n",
       "4  0.414641 -1.130386 -1"
      ]
     },
     "execution_count": 2,
     "metadata": {},
     "output_type": "execute_result"
    }
   ],
   "source": [
    "import pandas as pd\n",
    "\n",
    "path = 'xy_train.csv'\n",
    "data = pd.read_csv(path,header=None)\n",
    "data.head()"
   ]
  },
  {
   "cell_type": "code",
   "execution_count": 3,
   "metadata": {},
   "outputs": [
    {
     "data": {
      "text/html": [
       "<div>\n",
       "<style scoped>\n",
       "    .dataframe tbody tr th:only-of-type {\n",
       "        vertical-align: middle;\n",
       "    }\n",
       "\n",
       "    .dataframe tbody tr th {\n",
       "        vertical-align: top;\n",
       "    }\n",
       "\n",
       "    .dataframe thead th {\n",
       "        text-align: right;\n",
       "    }\n",
       "</style>\n",
       "<table border=\"1\" class=\"dataframe\">\n",
       "  <thead>\n",
       "    <tr style=\"text-align: right;\">\n",
       "      <th></th>\n",
       "      <th>feature_1</th>\n",
       "      <th>feature_2</th>\n",
       "      <th>label</th>\n",
       "    </tr>\n",
       "  </thead>\n",
       "  <tbody>\n",
       "    <tr>\n",
       "      <th>0</th>\n",
       "      <td>1.262954</td>\n",
       "      <td>0.781859</td>\n",
       "      <td>-1</td>\n",
       "    </tr>\n",
       "    <tr>\n",
       "      <th>1</th>\n",
       "      <td>-0.326233</td>\n",
       "      <td>-0.776777</td>\n",
       "      <td>-1</td>\n",
       "    </tr>\n",
       "    <tr>\n",
       "      <th>2</th>\n",
       "      <td>1.329799</td>\n",
       "      <td>-0.615990</td>\n",
       "      <td>-1</td>\n",
       "    </tr>\n",
       "    <tr>\n",
       "      <th>3</th>\n",
       "      <td>1.272429</td>\n",
       "      <td>0.046580</td>\n",
       "      <td>-1</td>\n",
       "    </tr>\n",
       "    <tr>\n",
       "      <th>4</th>\n",
       "      <td>0.414641</td>\n",
       "      <td>-1.130386</td>\n",
       "      <td>-1</td>\n",
       "    </tr>\n",
       "  </tbody>\n",
       "</table>\n",
       "</div>"
      ],
      "text/plain": [
       "   feature_1  feature_2  label\n",
       "0   1.262954   0.781859     -1\n",
       "1  -0.326233  -0.776777     -1\n",
       "2   1.329799  -0.615990     -1\n",
       "3   1.272429   0.046580     -1\n",
       "4   0.414641  -1.130386     -1"
      ]
     },
     "execution_count": 3,
     "metadata": {},
     "output_type": "execute_result"
    }
   ],
   "source": [
    "data.columns = ['feature_1', 'feature_2', 'label']\n",
    "data.head()"
   ]
  },
  {
   "cell_type": "code",
   "execution_count": 10,
   "metadata": {},
   "outputs": [],
   "source": [
    "import numpy as np\n",
    "from cvxopt import matrix, solvers\n",
    "\n",
    "X = data[['feature_1','feature_2']].values\n",
    "y = data['label'].values.reshape(-1,1)\n",
    "n_samples, n_features = x_1.shape"
   ]
  },
  {
   "cell_type": "code",
   "execution_count": 11,
   "metadata": {},
   "outputs": [],
   "source": [
    "C = 1.0\n",
    "\n",
    "P = np.zeros((n_samples + n_features + 1, n_samples + n_features + 1))\n",
    "P[:n_features, :n_features] = np.eye(n_features)"
   ]
  },
  {
   "cell_type": "code",
   "execution_count": 12,
   "metadata": {},
   "outputs": [],
   "source": [
    "q = np.vstack([np.zeros((n_features + 1, 1)), C * np.ones((n_samples, 1))])"
   ]
  },
  {
   "cell_type": "code",
   "execution_count": 13,
   "metadata": {},
   "outputs": [],
   "source": [
    "G_top = np.hstack([y * X, y, -np.eye(n_samples)])\n",
    "G_bottom = np.hstack([np.zeros((n_samples, n_features + 1)), -np.eye(n_samples)])\n",
    "G = np.vstack([G_top, G_bottom])"
   ]
  },
  {
   "cell_type": "code",
   "execution_count": 14,
   "metadata": {},
   "outputs": [],
   "source": [
    "h = np.vstack([-np.ones((n_samples, 1)), np.zeros((n_samples, 1))])"
   ]
  },
  {
   "cell_type": "code",
   "execution_count": 15,
   "metadata": {},
   "outputs": [],
   "source": [
    "P = matrix(P)\n",
    "q = matrix(q)\n",
    "G = matrix(G)\n",
    "h = matrix(h)\n",
    "\n",
    "A = None\n",
    "b = None"
   ]
  },
  {
   "cell_type": "code",
   "execution_count": 16,
   "metadata": {},
   "outputs": [
    {
     "name": "stdout",
     "output_type": "stream",
     "text": [
      "     pcost       dcost       gap    pres   dres\n",
      " 0: -1.3563e+02  4.5749e+02  2e+03  4e+00  4e+01\n",
      " 1:  2.1039e+02 -1.0937e+02  4e+02  5e-01  5e+00\n",
      " 2:  6.5813e+01  1.6165e+01  6e+01  6e-02  6e-01\n",
      " 3:  4.2176e+01  3.1724e+01  1e+01  1e-02  1e-01\n",
      " 4:  3.9130e+01  3.4520e+01  5e+00  4e-03  4e-02\n",
      " 5:  3.7841e+01  3.5783e+01  2e+00  1e-03  1e-02\n",
      " 6:  3.7123e+01  3.6441e+01  7e-01  2e-04  2e-03\n",
      " 7:  3.6775e+01  3.6726e+01  5e-02  7e-06  7e-05\n",
      " 8:  3.6751e+01  3.6747e+01  5e-03  4e-07  4e-06\n",
      " 9:  3.6749e+01  3.6749e+01  5e-05  4e-09  4e-08\n",
      "10:  3.6749e+01  3.6749e+01  5e-07  4e-11  4e-10\n",
      "Optimal solution found.\n"
     ]
    }
   ],
   "source": [
    "\n",
    "solution = solvers.qp(P, q, G, h, A, b)"
   ]
  },
  {
   "cell_type": "code",
   "execution_count": 17,
   "metadata": {},
   "outputs": [],
   "source": [
    "weights = np.array(solution['x'][:n_features])\n",
    "intercept = np.array(solution['x'][n_features])"
   ]
  },
  {
   "cell_type": "code",
   "execution_count": 33,
   "metadata": {},
   "outputs": [
    {
     "name": "stdout",
     "output_type": "stream",
     "text": [
      "[[-1.41967191]\n",
      " [-1.24607478]] 2.8237275969550937 1.784085334973087\n"
     ]
    }
   ],
   "source": [
    "optimal_criterion_value = 0.5 * np.dot(weights.flatten(), weights.flatten())\n",
    "\n",
    "print(weights, intercept, optimal_criterion_value)\n",
    "b_0 = intercept\n",
    "b = weights"
   ]
  },
  {
   "cell_type": "code",
   "execution_count": 32,
   "metadata": {},
   "outputs": [
    {
     "data": {
      "image/png": "[encoded data removed]",
      "text/plain": [
       "<Figure size 800x600 with 1 Axes>"
      ]
     },
     "metadata": {},
     "output_type": "display_data"
    }
   ],
   "source": [
    "import matplotlib.pyplot as plt\n",
    "\n",
    "x1_values = np.linspace(-10, 10, 400)\n",
    "x2_values = -(b_0 + b[0]*x1_values) / b[1]\n",
    "\n",
    "data1 = pd.read_csv('xy_train.csv', header=None)\n",
    "\n",
    "x_1 = data1.iloc[:, :-1]\n",
    "x_2 = data1.iloc[:, -1]\n",
    "\n",
    "plt.figure(figsize=(8, 6))\n",
    "plt.plot(x1_values, x2_values, label='β₀ + β^Tx = 0')\n",
    "\n",
    "for label in np.unique(y):\n",
    "    plt.scatter(x_1[x_2 == label][0], x_1[x_2 == label][1], label=f'Class {label}', alpha=0.5)\n",
    "\n",
    "\n",
    "plt.xlabel('x1')\n",
    "plt.ylabel('x2')\n",
    "plt.title('Plot of the data points and the line β₀ + β^Tx = 0')\n",
    "plt.axhline(0, color='black',linewidth=0.5)\n",
    "plt.axvline(0, color='black',linewidth=0.5)\n",
    "plt.xlim(-6,6)\n",
    "plt.ylim(-2,6)\n",
    "plt.grid(True)\n",
    "plt.legend()\n",
    "plt.show()\n"
   ]
  }
 ],
 "metadata": {
  "kernelspec": {
   "display_name": "mathProgramming",
   "language": "python",
   "name": "python3"
  },
  "language_info": {
   "codemirror_mode": {
    "name": "ipython",
    "version": 3
   },
   "file_extension": ".py",
   "mimetype": "text/x-python",
   "name": "python",
   "nbconvert_exporter": "python",
   "pygments_lexer": "ipython3",
   "version": "3.9.0"
  }
 },
 "nbformat": 4,
 "nbformat_minor": 2
}
